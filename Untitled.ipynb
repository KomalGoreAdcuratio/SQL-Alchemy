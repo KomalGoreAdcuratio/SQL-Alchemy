{
 "cells": [
  {
   "cell_type": "code",
   "execution_count": 59,
   "id": "a870ec83",
   "metadata": {},
   "outputs": [
    {
     "data": {
      "text/plain": [
       "'2.0.9'"
      ]
     },
     "execution_count": 59,
     "metadata": {},
     "output_type": "execute_result"
    }
   ],
   "source": [
    "import sqlalchemy\n",
    "sqlalchemy.__version__ "
   ]
  },
  {
   "cell_type": "code",
   "execution_count": 71,
   "id": "cab9083b",
   "metadata": {},
   "outputs": [],
   "source": [
    "from sqlalchemy import create_engine\n",
    "engine = create_engine('sqlite:///newDB.db', echo=True)\n",
    "#engine = create_engine(\"mysql+mysqldb://u:p@host/db\", pool_size=10, max_overflow=20)"
   ]
  },
  {
   "cell_type": "code",
   "execution_count": 72,
   "id": "cca92662",
   "metadata": {},
   "outputs": [
    {
     "name": "stderr",
     "output_type": "stream",
     "text": [
      "/tmp/ipykernel_5565/767083216.py:3: MovedIn20Warning: The ``declarative_base()`` function is now available as sqlalchemy.orm.declarative_base(). (deprecated since: 2.0) (Background on SQLAlchemy 2.0 at: https://sqlalche.me/e/b8d9)\n",
      "  Base = declarative_base()\n"
     ]
    }
   ],
   "source": [
    "from sqlalchemy.ext.declarative import declarative_base\n",
    "\n",
    "Base = declarative_base()"
   ]
  },
  {
   "cell_type": "code",
   "execution_count": 73,
   "id": "2a9aa07d",
   "metadata": {},
   "outputs": [],
   "source": [
    "from sqlalchemy import Column, Integer, String\n",
    "class Student(Base):\n",
    "    __tablename__ = 'student'\n",
    "\n",
    "    id = Column(Integer, primary_key=True)\n",
    "    name = Column(String)\n",
    "    fullname = Column(String)\n",
    "    nickname = Column(String)\n",
    "\n",
    "    def __repr__(self):\n",
    "       return \"<User(name='%s', fullname='%s', nickname='%s')>\" % (\n",
    "                            self.name, self.fullname, self.nickname)"
   ]
  },
  {
   "cell_type": "code",
   "execution_count": 74,
   "id": "7712d773",
   "metadata": {},
   "outputs": [
    {
     "name": "stdout",
     "output_type": "stream",
     "text": [
      "2023-04-18 15:20:15,677 INFO sqlalchemy.engine.Engine BEGIN (implicit)\n",
      "2023-04-18 15:20:15,678 INFO sqlalchemy.engine.Engine PRAGMA main.table_info(\"student\")\n",
      "2023-04-18 15:20:15,679 INFO sqlalchemy.engine.Engine [raw sql] ()\n",
      "2023-04-18 15:20:15,680 INFO sqlalchemy.engine.Engine PRAGMA temp.table_info(\"student\")\n",
      "2023-04-18 15:20:15,681 INFO sqlalchemy.engine.Engine [raw sql] ()\n",
      "2023-04-18 15:20:15,683 INFO sqlalchemy.engine.Engine \n",
      "CREATE TABLE student (\n",
      "\tid INTEGER NOT NULL, \n",
      "\tname VARCHAR, \n",
      "\tfullname VARCHAR, \n",
      "\tnickname VARCHAR, \n",
      "\tPRIMARY KEY (id)\n",
      ")\n",
      "\n",
      "\n",
      "2023-04-18 15:20:15,684 INFO sqlalchemy.engine.Engine [no key 0.00127s] ()\n",
      "2023-04-18 15:20:15,714 INFO sqlalchemy.engine.Engine COMMIT\n"
     ]
    }
   ],
   "source": [
    "### Describe Table\n",
    "\n",
    "Student.__table__\n",
    "\n",
    "## SAVING DATA\n",
    "Base.metadata.create_all(bind=engine)\n"
   ]
  },
  {
   "cell_type": "code",
   "execution_count": 75,
   "id": "e27c0219",
   "metadata": {},
   "outputs": [],
   "source": [
    "### Create Session \n",
    "from sqlalchemy.orm import sessionmaker\n",
    "Session = sessionmaker(bind=engine)\n",
    "session=Session()\n",
    "session.commit()"
   ]
  },
  {
   "cell_type": "code",
   "execution_count": 76,
   "id": "7351e15c",
   "metadata": {},
   "outputs": [],
   "source": [
    "student1=Student(name=\"Komal\",fullname=\"Komal Gore\" ,nickname=\"Kaju\")\n",
    "session.add(student1)"
   ]
  },
  {
   "cell_type": "code",
   "execution_count": 77,
   "id": "da1bb1ab",
   "metadata": {},
   "outputs": [],
   "source": [
    "\n",
    "student2=Student(id=2,fullname=\"Komal\" ,nickname=\"Didu\")\n",
    "session.add(student2)"
   ]
  },
  {
   "cell_type": "code",
   "execution_count": 78,
   "id": "883f9cc0",
   "metadata": {},
   "outputs": [],
   "source": [
    "session.add_all([\n",
    "    Student(name='K1', fullname='KG', nickname='windy'),\n",
    "    Student(name='K2', fullname='MG', nickname='mary'),\n",
    "    Student(name='K3', fullname='JG', nickname='freddy')])"
   ]
  },
  {
   "cell_type": "code",
   "execution_count": 79,
   "id": "e89af279",
   "metadata": {},
   "outputs": [],
   "source": [
    "data = session.query(Student).filter_by(name='Komal Gore')"
   ]
  },
  {
   "cell_type": "code",
   "execution_count": null,
   "id": "007aa146",
   "metadata": {},
   "outputs": [],
   "source": []
  },
  {
   "cell_type": "code",
   "execution_count": 80,
   "id": "37bc86b9",
   "metadata": {},
   "outputs": [
    {
     "data": {
      "text/plain": [
       "<sqlalchemy.orm.query.Query at 0x7f49147049d0>"
      ]
     },
     "execution_count": 80,
     "metadata": {},
     "output_type": "execute_result"
    }
   ],
   "source": [
    "session.query(Student).filter_by(name='Komal Gore')"
   ]
  },
  {
   "cell_type": "code",
   "execution_count": 81,
   "id": "b4ed52f3",
   "metadata": {},
   "outputs": [
    {
     "name": "stdout",
     "output_type": "stream",
     "text": [
      "2023-04-18 15:20:18,483 INFO sqlalchemy.engine.Engine BEGIN (implicit)\n",
      "2023-04-18 15:20:18,486 INFO sqlalchemy.engine.Engine INSERT INTO student (name, fullname, nickname) VALUES (?, ?, ?)\n",
      "2023-04-18 15:20:18,487 INFO sqlalchemy.engine.Engine [generated in 0.00170s] ('Komal', 'Komal Gore', 'Kaju')\n",
      "2023-04-18 15:20:18,490 INFO sqlalchemy.engine.Engine INSERT INTO student (id, name, fullname, nickname) VALUES (?, ?, ?, ?)\n",
      "2023-04-18 15:20:18,491 INFO sqlalchemy.engine.Engine [generated in 0.00106s] (2, None, 'Komal', 'Didu')\n",
      "2023-04-18 15:20:18,497 INFO sqlalchemy.engine.Engine INSERT INTO student (name, fullname, nickname) VALUES (?, ?, ?), (?, ?, ?), (?, ?, ?) RETURNING id\n",
      "2023-04-18 15:20:18,497 INFO sqlalchemy.engine.Engine [generated in 0.00017s (insertmanyvalues)] ('K1', 'KG', 'windy', 'K2', 'MG', 'mary', 'K3', 'JG', 'freddy')\n",
      "2023-04-18 15:20:18,501 INFO sqlalchemy.engine.Engine COMMIT\n"
     ]
    }
   ],
   "source": [
    "session.commit()"
   ]
  },
  {
   "cell_type": "code",
   "execution_count": 82,
   "id": "41c8a67c",
   "metadata": {},
   "outputs": [
    {
     "name": "stdout",
     "output_type": "stream",
     "text": [
      "2023-04-18 15:20:19,175 INFO sqlalchemy.engine.Engine BEGIN (implicit)\n",
      "2023-04-18 15:20:19,178 INFO sqlalchemy.engine.Engine SELECT student.id AS student_id, student.name AS student_name, student.fullname AS student_fullname, student.nickname AS student_nickname \n",
      "FROM student\n",
      "2023-04-18 15:20:19,179 INFO sqlalchemy.engine.Engine [generated in 0.00136s] ()\n"
     ]
    },
    {
     "data": {
      "text/plain": [
       "[<User(name='Komal', fullname='Komal Gore', nickname='Kaju')>,\n",
       " <User(name='None', fullname='Komal', nickname='Didu')>,\n",
       " <User(name='K1', fullname='KG', nickname='windy')>,\n",
       " <User(name='K2', fullname='MG', nickname='mary')>,\n",
       " <User(name='K3', fullname='JG', nickname='freddy')>]"
      ]
     },
     "execution_count": 82,
     "metadata": {},
     "output_type": "execute_result"
    }
   ],
   "source": [
    "session.query(Student).all()"
   ]
  },
  {
   "cell_type": "code",
   "execution_count": 83,
   "id": "477d8999",
   "metadata": {},
   "outputs": [
    {
     "name": "stdout",
     "output_type": "stream",
     "text": [
      "2023-04-18 15:20:19,905 INFO sqlalchemy.engine.Engine SELECT student.name AS student_name, student.fullname AS student_fullname \n",
      "FROM student\n",
      "2023-04-18 15:20:19,907 INFO sqlalchemy.engine.Engine [generated in 0.00194s] ()\n",
      "Komal Komal Gore\n",
      "None Komal\n",
      "K1 KG\n",
      "K2 MG\n",
      "K3 JG\n"
     ]
    }
   ],
   "source": [
    "for name, fullname in session.query(Student.name, Student.fullname):\n",
    "    print(name, fullname)"
   ]
  },
  {
   "cell_type": "code",
   "execution_count": 84,
   "id": "c8e5a9f9",
   "metadata": {},
   "outputs": [
    {
     "name": "stdout",
     "output_type": "stream",
     "text": [
      "2023-04-18 15:20:20,514 INFO sqlalchemy.engine.Engine COMMIT\n"
     ]
    }
   ],
   "source": [
    "session.commit()"
   ]
  },
  {
   "cell_type": "code",
   "execution_count": 85,
   "id": "0c98a87a",
   "metadata": {},
   "outputs": [],
   "source": [
    "session.close()"
   ]
  },
  {
   "cell_type": "code",
   "execution_count": null,
   "id": "cc075cd0",
   "metadata": {},
   "outputs": [],
   "source": []
  }
 ],
 "metadata": {
  "kernelspec": {
   "display_name": "Python 3 (ipykernel)",
   "language": "python",
   "name": "python3"
  },
  "language_info": {
   "codemirror_mode": {
    "name": "ipython",
    "version": 3
   },
   "file_extension": ".py",
   "mimetype": "text/x-python",
   "name": "python",
   "nbconvert_exporter": "python",
   "pygments_lexer": "ipython3",
   "version": "3.10.6"
  }
 },
 "nbformat": 4,
 "nbformat_minor": 5
}
